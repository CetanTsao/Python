{
  "nbformat": 4,
  "nbformat_minor": 0,
  "metadata": {
    "colab": {
      "name": "練習一：集保戶股權分散表查詢.ipynb",
      "provenance": [],
      "toc_visible": true,
      "include_colab_link": true
    },
    "kernelspec": {
      "display_name": "Python 3",
      "language": "python",
      "name": "python3"
    },
    "language_info": {
      "codemirror_mode": {
        "name": "ipython",
        "version": 3
      },
      "file_extension": ".py",
      "mimetype": "text/x-python",
      "name": "python",
      "nbconvert_exporter": "python",
      "pygments_lexer": "ipython3",
      "version": "3.7.1"
    }
  },
  "cells": [
    {
      "cell_type": "markdown",
      "metadata": {
        "id": "view-in-github",
        "colab_type": "text"
      },
      "source": [
        "<a href=\"https://colab.research.google.com/github/CetanTsao/Python/blob/master/Copy_of_%E7%B7%B4%E7%BF%92%E4%B8%80%EF%BC%9A%E9%9B%86%E4%BF%9D%E6%88%B6%E8%82%A1%E6%AC%8A%E5%88%86%E6%95%A3%E8%A1%A8%E6%9F%A5%E8%A9%A2.ipynb\" target=\"_parent\"><img src=\"https://colab.research.google.com/assets/colab-badge.svg\" alt=\"Open In Colab\"/></a>"
      ]
    },
    {
      "cell_type": "markdown",
      "metadata": {
        "id": "umwt9n_voNFg",
        "colab_type": "text"
      },
      "source": [
        "# 練習一：集保戶股權分散表查詢"
      ]
    },
    {
      "cell_type": "code",
      "metadata": {
        "colab_type": "code",
        "id": "HouqAnnR5m25",
        "colab": {}
      },
      "source": [
        "import pandas as pd"
      ],
      "execution_count": 0,
      "outputs": []
    },
    {
      "cell_type": "code",
      "metadata": {
        "colab_type": "code",
        "id": "qxXtzAV15pr7",
        "colab": {}
      },
      "source": [
        "url = \"https://smart.tdcc.com.tw/opendata/getOD.ashx?id=1-5\""
      ],
      "execution_count": 0,
      "outputs": []
    },
    {
      "cell_type": "code",
      "metadata": {
        "colab_type": "code",
        "id": "5eF57ZGx5v2F",
        "colab": {}
      },
      "source": [
        "df = pd.read_csv(url)"
      ],
      "execution_count": 0,
      "outputs": []
    },
    {
      "cell_type": "code",
      "metadata": {
        "colab_type": "code",
        "id": "jtRVaFCc518r",
        "colab": {
          "base_uri": "https://localhost:8080/",
          "height": 195
        },
        "outputId": "0f1ef148-d72d-4b2b-8acb-22e8f9e82b45"
      },
      "source": [
        "df.head()"
      ],
      "execution_count": 4,
      "outputs": [
        {
          "output_type": "execute_result",
          "data": {
            "text/html": [
              "<div>\n",
              "<style scoped>\n",
              "    .dataframe tbody tr th:only-of-type {\n",
              "        vertical-align: middle;\n",
              "    }\n",
              "\n",
              "    .dataframe tbody tr th {\n",
              "        vertical-align: top;\n",
              "    }\n",
              "\n",
              "    .dataframe thead th {\n",
              "        text-align: right;\n",
              "    }\n",
              "</style>\n",
              "<table border=\"1\" class=\"dataframe\">\n",
              "  <thead>\n",
              "    <tr style=\"text-align: right;\">\n",
              "      <th></th>\n",
              "      <th>資料日期</th>\n",
              "      <th>證券代號</th>\n",
              "      <th>持股分級</th>\n",
              "      <th>人數</th>\n",
              "      <th>股數</th>\n",
              "      <th>占集保庫存數比例%</th>\n",
              "    </tr>\n",
              "  </thead>\n",
              "  <tbody>\n",
              "    <tr>\n",
              "      <th>0</th>\n",
              "      <td>20200401</td>\n",
              "      <td>0050</td>\n",
              "      <td>1</td>\n",
              "      <td>44173</td>\n",
              "      <td>10834763</td>\n",
              "      <td>1.02</td>\n",
              "    </tr>\n",
              "    <tr>\n",
              "      <th>1</th>\n",
              "      <td>20200401</td>\n",
              "      <td>0050</td>\n",
              "      <td>2</td>\n",
              "      <td>96465</td>\n",
              "      <td>186791648</td>\n",
              "      <td>17.70</td>\n",
              "    </tr>\n",
              "    <tr>\n",
              "      <th>2</th>\n",
              "      <td>20200401</td>\n",
              "      <td>0050</td>\n",
              "      <td>3</td>\n",
              "      <td>10364</td>\n",
              "      <td>79902735</td>\n",
              "      <td>7.57</td>\n",
              "    </tr>\n",
              "    <tr>\n",
              "      <th>3</th>\n",
              "      <td>20200401</td>\n",
              "      <td>0050</td>\n",
              "      <td>4</td>\n",
              "      <td>2819</td>\n",
              "      <td>36075583</td>\n",
              "      <td>3.41</td>\n",
              "    </tr>\n",
              "    <tr>\n",
              "      <th>4</th>\n",
              "      <td>20200401</td>\n",
              "      <td>0050</td>\n",
              "      <td>5</td>\n",
              "      <td>1557</td>\n",
              "      <td>28426726</td>\n",
              "      <td>2.69</td>\n",
              "    </tr>\n",
              "  </tbody>\n",
              "</table>\n",
              "</div>"
            ],
            "text/plain": [
              "       資料日期  證券代號  持股分級     人數         股數  占集保庫存數比例%\n",
              "0  20200401  0050     1  44173   10834763       1.02\n",
              "1  20200401  0050     2  96465  186791648      17.70\n",
              "2  20200401  0050     3  10364   79902735       7.57\n",
              "3  20200401  0050     4   2819   36075583       3.41\n",
              "4  20200401  0050     5   1557   28426726       2.69"
            ]
          },
          "metadata": {
            "tags": []
          },
          "execution_count": 4
        }
      ]
    },
    {
      "cell_type": "code",
      "metadata": {
        "id": "6xRlioJNp2ym",
        "colab_type": "code",
        "colab": {
          "base_uri": "https://localhost:8080/",
          "height": 195
        },
        "outputId": "d305b0e0-4186-4658-f626-9fd68f41975a"
      },
      "source": [
        "df.tail()"
      ],
      "execution_count": 5,
      "outputs": [
        {
          "output_type": "execute_result",
          "data": {
            "text/html": [
              "<div>\n",
              "<style scoped>\n",
              "    .dataframe tbody tr th:only-of-type {\n",
              "        vertical-align: middle;\n",
              "    }\n",
              "\n",
              "    .dataframe tbody tr th {\n",
              "        vertical-align: top;\n",
              "    }\n",
              "\n",
              "    .dataframe thead th {\n",
              "        text-align: right;\n",
              "    }\n",
              "</style>\n",
              "<table border=\"1\" class=\"dataframe\">\n",
              "  <thead>\n",
              "    <tr style=\"text-align: right;\">\n",
              "      <th></th>\n",
              "      <th>資料日期</th>\n",
              "      <th>證券代號</th>\n",
              "      <th>持股分級</th>\n",
              "      <th>人數</th>\n",
              "      <th>股數</th>\n",
              "      <th>占集保庫存數比例%</th>\n",
              "    </tr>\n",
              "  </thead>\n",
              "  <tbody>\n",
              "    <tr>\n",
              "      <th>47340</th>\n",
              "      <td>20200401</td>\n",
              "      <td>YY0079</td>\n",
              "      <td>13</td>\n",
              "      <td>0</td>\n",
              "      <td>0</td>\n",
              "      <td>0.0</td>\n",
              "    </tr>\n",
              "    <tr>\n",
              "      <th>47341</th>\n",
              "      <td>20200401</td>\n",
              "      <td>YY0079</td>\n",
              "      <td>14</td>\n",
              "      <td>0</td>\n",
              "      <td>0</td>\n",
              "      <td>0.0</td>\n",
              "    </tr>\n",
              "    <tr>\n",
              "      <th>47342</th>\n",
              "      <td>20200401</td>\n",
              "      <td>YY0079</td>\n",
              "      <td>15</td>\n",
              "      <td>0</td>\n",
              "      <td>0</td>\n",
              "      <td>0.0</td>\n",
              "    </tr>\n",
              "    <tr>\n",
              "      <th>47343</th>\n",
              "      <td>20200401</td>\n",
              "      <td>YY0079</td>\n",
              "      <td>16</td>\n",
              "      <td>0</td>\n",
              "      <td>0</td>\n",
              "      <td>0.0</td>\n",
              "    </tr>\n",
              "    <tr>\n",
              "      <th>47344</th>\n",
              "      <td>20200401</td>\n",
              "      <td>YY0079</td>\n",
              "      <td>17</td>\n",
              "      <td>81</td>\n",
              "      <td>331000</td>\n",
              "      <td>100.0</td>\n",
              "    </tr>\n",
              "  </tbody>\n",
              "</table>\n",
              "</div>"
            ],
            "text/plain": [
              "           資料日期    證券代號  持股分級  人數      股數  占集保庫存數比例%\n",
              "47340  20200401  YY0079    13   0       0        0.0\n",
              "47341  20200401  YY0079    14   0       0        0.0\n",
              "47342  20200401  YY0079    15   0       0        0.0\n",
              "47343  20200401  YY0079    16   0       0        0.0\n",
              "47344  20200401  YY0079    17  81  331000      100.0"
            ]
          },
          "metadata": {
            "tags": []
          },
          "execution_count": 5
        }
      ]
    }
  ]
}
